{
  "cells": [
    {
      "cell_type": "code",
      "execution_count": null,
      "metadata": {
        "id": "sqi5B7V_Rjim"
      },
      "outputs": [],
      "source": [
        "# Copyright 2024 Google LLC\n",
        "#\n",
        "# Licensed under the Apache License, Version 2.0 (the \"License\");\n",
        "# you may not use this file except in compliance with the License.\n",
        "# You may obtain a copy of the License at\n",
        "#\n",
        "#     https://www.apache.org/licenses/LICENSE-2.0\n",
        "#\n",
        "# Unless required by applicable law or agreed to in writing, software\n",
        "# distributed under the License is distributed on an \"AS IS\" BASIS,\n",
        "# WITHOUT WARRANTIES OR CONDITIONS OF ANY KIND, either express or implied.\n",
        "# See the License for the specific language governing permissions and\n",
        "# limitations under the License."
      ]
    },
    {
      "cell_type": "markdown",
      "metadata": {
        "id": "VyPmicX9RlZX"
      },
      "source": [
        "# Getting Started with Gemini 2.0 Flash Thinking Model\n",
        "\n",
        "<table align=\"left\">\n",
        "  <td style=\"text-align: center\">\n",
        "    <a href=\"https://colab.research.google.com/github/GoogleCloudPlatform/generative-ai/blob/main/gemini/getting-started/intro_gemini_2_0_flash_thinking_mode.ipynb\">\n",
        "      <img width=\"32px\" src=\"https://www.gstatic.com/pantheon/images/bigquery/welcome_page/colab-logo.svg\" alt=\"Google Colaboratory logo\"><br> Open in Colab\n",
        "    </a>\n",
        "  </td>\n",
        "  <td style=\"text-align: center\">\n",
        "    <a href=\"https://console.cloud.google.com/vertex-ai/colab/import/https:%2F%2Fraw.githubusercontent.com%2FGoogleCloudPlatform%2Fgenerative-ai%2Fmain%2Fgemini%2Fgetting-started%2Fintro_gemini_2_0_flash_thinking_mode.ipynb\">\n",
        "      <img width=\"32px\" src=\"https://lh3.googleusercontent.com/JmcxdQi-qOpctIvWKgPtrzZdJJK-J3sWE1RsfjZNwshCFgE_9fULcNpuXYTilIR2hjwN\" alt=\"Google Cloud Colab Enterprise logo\"><br> Open in Colab Enterprise\n",
        "    </a>\n",
        "  </td>\n",
        "  <td style=\"text-align: center\">\n",
        "    <a href=\"https://console.cloud.google.com/vertex-ai/workbench/deploy-notebook?download_url=https://raw.githubusercontent.com/GoogleCloudPlatform/generative-ai/main/gemini/getting-started/intro_gemini_2_0_flash_thinking_mode.ipynb\">\n",
        "      <img src=\"https://www.gstatic.com/images/branding/gcpiconscolors/vertexai/v1/32px.svg\" alt=\"Vertex AI logo\"><br> Open in Vertex AI Workbench\n",
        "    </a>\n",
        "  </td>\n",
        "  <td style=\"text-align: center\">\n",
        "    <a href=\"https://github.com/GoogleCloudPlatform/generative-ai/blob/main/gemini/getting-started/intro_gemini_2_0_flash_thinking_mode.ipynb\">\n",
        "      <img width=\"32px\" src=\"https://www.svgrepo.com/download/217753/github.svg\" alt=\"GitHub logo\"><br> View on GitHub\n",
        "    </a>\n",
        "  </td>\n",
        "  <td style=\"text-align: center\">\n",
        "    <a href=\"https://goo.gle/42q3ZwP\">\n",
        "      <img width=\"32px\" src=\"https://cdn.qwiklabs.com/assets/gcp_cloud-e3a77215f0b8bfa9b3f611c0d2208c7e8708ed31.svg\" alt=\"Google Cloud logo\"><br> Open in Cloud Skills Boost\n",
        "    </a>\n",
        "  </td>\n",
        "</table>\n",
        "\n",
        "<div style=\"clear: both;\"></div>\n",
        "\n",
        "<b>Share to:</b>\n",
        "\n",
        "<a href=\"https://www.linkedin.com/sharing/share-offsite/?url=https%3A//github.com/GoogleCloudPlatform/generative-ai/blob/main/gemini/getting-started/intro_gemini_2_0_flash_thinking_mode.ipynb\" target=\"_blank\">\n",
        "  <img width=\"20px\" src=\"https://upload.wikimedia.org/wikipedia/commons/8/81/LinkedIn_icon.svg\" alt=\"LinkedIn logo\">\n",
        "</a>\n",
        "\n",
        "<a href=\"https://bsky.app/intent/compose?text=https%3A//github.com/GoogleCloudPlatform/generative-ai/blob/main/gemini/getting-started/intro_gemini_2_0_flash_thinking_mode.ipynb\" target=\"_blank\">\n",
        "  <img width=\"20px\" src=\"https://upload.wikimedia.org/wikipedia/commons/7/7a/Bluesky_Logo.svg\" alt=\"Bluesky logo\">\n",
        "</a>\n",
        "\n",
        "<a href=\"https://twitter.com/intent/tweet?url=https%3A//github.com/GoogleCloudPlatform/generative-ai/blob/main/gemini/getting-started/intro_gemini_2_0_flash_thinking_mode.ipynb\" target=\"_blank\">\n",
        "  <img width=\"20px\" src=\"https://upload.wikimedia.org/wikipedia/commons/5/5a/X_icon_2.svg\" alt=\"X logo\">\n",
        "</a>\n",
        "\n",
        "<a href=\"https://reddit.com/submit?url=https%3A//github.com/GoogleCloudPlatform/generative-ai/blob/main/gemini/getting-started/intro_gemini_2_0_flash_thinking_mode.ipynb\" target=\"_blank\">\n",
        "  <img width=\"20px\" src=\"https://redditinc.com/hubfs/Reddit%20Inc/Brand/Reddit_Logo.png\" alt=\"Reddit logo\">\n",
        "</a>\n",
        "\n",
        "<a href=\"https://www.facebook.com/sharer/sharer.php?u=https%3A//github.com/GoogleCloudPlatform/generative-ai/blob/main/gemini/getting-started/intro_gemini_2_0_flash_thinking_mode.ipynb\" target=\"_blank\">\n",
        "  <img width=\"20px\" src=\"https://upload.wikimedia.org/wikipedia/commons/5/51/Facebook_f_logo_%282019%29.svg\" alt=\"Facebook logo\">\n",
        "</a>"
      ]
    },
    {
      "cell_type": "markdown",
      "metadata": {
        "id": "8MqT58L6Rm_q"
      },
      "source": [
        "| | |\n",
        "|-|-|\n",
        "| Author(s) |  [Guillaume Vernade](https://github.com/giom-v), [Eric Dong](https://github.com/gericdong) |"
      ]
    },
    {
      "cell_type": "markdown",
      "metadata": {
        "id": "3w14yjWnPVD-"
      },
      "source": [
        "## Overview\n",
        "\n",
        "[Gemini 2.0 Flash Thinking](https://cloud.google.com/vertex-ai/generative-ai/docs/thinking-mode) is an experimental model that's trained to generate the \"thinking process\" the model goes through as part of its response. As a result, the Flash Thinking model is capable of stronger reasoning capabilities in its responses than the Gemini 2.0 Flash model.\n",
        "\n",
        "This tutorial demonstrates how to access the Gemini 2.0 Flash Thinking model and use the model to solve the following complex tasks that require multiple rounds of strategizing and iteratively solving.\n",
        "\n",
        "- Example 1: Code simplification\n",
        "- Example 2: Geometry problem (with image)\n",
        "- Example 3: Mathematical brain teaser\n",
        "- Example 4: Generating question for a specific level of knowledge\n",
        "- Example 5: Statistics\n",
        "- Example 6: Brain teaser with a twist\n"
      ]
    },
    {
      "cell_type": "markdown",
      "metadata": {
        "id": "gPiTOAHURvTM"
      },
      "source": [
        "## Getting Started"
      ]
    },
    {
      "cell_type": "markdown",
      "metadata": {
        "id": "CHRZUpfWSEpp"
      },
      "source": [
        "### Install Google Gen AI SDK for Python\n"
      ]
    },
    {
      "cell_type": "code",
      "execution_count": 16,
      "metadata": {
        "id": "sG3_LKsWSD3A"
      },
      "outputs": [],
      "source": [
        "%pip install --upgrade --quiet google-genai"
      ]
    },
    {
      "cell_type": "markdown",
      "metadata": {
        "id": "HlMVjiAWSMNX"
      },
      "source": [
        "### Authenticate your notebook environment (Colab only)\n",
        "\n",
        "If you are running this notebook on Google Colab, run the cell below to authenticate your environment."
      ]
    },
    {
      "cell_type": "code",
      "execution_count": 17,
      "metadata": {
        "id": "12fnq4V0SNV3"
      },
      "outputs": [],
      "source": [
        "import sys\n",
        "\n",
        "if \"google.colab\" in sys.modules:\n",
        "    from google.colab import auth\n",
        "\n",
        "    auth.authenticate_user()"
      ]
    },
    {
      "cell_type": "markdown",
      "metadata": {
        "id": "0Ef0zVX-X9Bg"
      },
      "source": [
        "### Import libraries\n"
      ]
    },
    {
      "cell_type": "code",
      "execution_count": 18,
      "metadata": {
        "id": "xBCH3hnAX9Bh"
      },
      "outputs": [],
      "source": [
        "from IPython.display import Image, Markdown, display\n",
        "from google import genai\n",
        "from google.genai.types import Part"
      ]
    },
    {
      "cell_type": "markdown",
      "metadata": {
        "id": "LymmEN6GSTn-"
      },
      "source": [
        "### Set Google Cloud project information and create client\n",
        "\n",
        "To get started using Vertex AI, you must have an existing Google Cloud project and [enable the Vertex AI API](https://console.cloud.google.com/flows/enableapi?apiid=aiplatform.googleapis.com).\n",
        "\n",
        "Learn more about [setting up a project and a development environment](https://cloud.google.com/vertex-ai/docs/start/cloud-environment)."
      ]
    },
    {
      "cell_type": "code",
      "execution_count": 23,
      "metadata": {
        "id": "Nqwi-5ufWp_B"
      },
      "outputs": [],
      "source": [
        "import os\n",
        "\n",
        "PROJECT_ID = \"gen-lang-client-0046188864\"  # @param {type: \"string\", placeholder: \"[your-project-id]\", isTemplate: true}\n",
        "if not PROJECT_ID or PROJECT_ID == \"[your-project-id]\":\n",
        "    PROJECT_ID = str(os.environ.get(\"GOOGLE_CLOUD_PROJECT\"))\n",
        "\n",
        "LOCATION = os.environ.get(\"GOOGLE_CLOUD_REGION\", \"us-central1\")\n",
        "\n",
        "client = genai.Client(vertexai=True, project=PROJECT_ID, location=LOCATION)"
      ]
    },
    {
      "cell_type": "markdown",
      "metadata": {
        "id": "w0u6hYSleE0H"
      },
      "source": [
        "## Use Gemini 2.0 Flash Thinking Model\n"
      ]
    },
    {
      "cell_type": "markdown",
      "metadata": {
        "id": "5M7EKckIYVFy"
      },
      "source": [
        "### Set model ID\n",
        "\n",
        "See the [Google models](https://cloud.google.com/vertex-ai/generative-ai/docs/learn/models) page for more information."
      ]
    },
    {
      "cell_type": "code",
      "execution_count": 20,
      "metadata": {
        "id": "-coEslfWPrxo"
      },
      "outputs": [],
      "source": [
        "MODEL_ID = \"gemini-2.0-flash-thinking-exp-01-21\"  # @param {type: \"string\"}"
      ]
    },
    {
      "cell_type": "markdown",
      "metadata": {
        "id": "c5fc462efc55"
      },
      "source": [
        "### Generate content with thoughts\n",
        "\n",
        "Then use the `generate_content` method to send a request to generate content with thoughts. The model responds with multiple parts, the thoughts and the model response. You can check the `part.thought` field to determine if a part is a thought or not."
      ]
    },
    {
      "cell_type": "code",
      "execution_count": 24,
      "metadata": {
        "id": "c55bf1df11ea",
        "outputId": "de6a3699-6724-4796-c1ef-5ea6555692fa",
        "colab": {
          "base_uri": "https://localhost:8080/",
          "height": 145
        }
      },
      "outputs": [
        {
          "output_type": "display_data",
          "data": {
            "text/plain": [
              "<IPython.core.display.Markdown object>"
            ],
            "text/markdown": "The next number in the sequence is **32**.\n\nThis sequence is a geometric sequence where each number is multiplied by 2 to get the next number.\n\n* 2 * 2 = 4\n* 4 * 2 = 8\n* 8 * 2 = 16\n* 16 * 2 = 32"
          },
          "metadata": {}
        }
      ],
      "source": [
        "response = client.models.generate_content(\n",
        "    model=MODEL_ID,\n",
        "    contents=\"What is the next number in this sequence: 2, 4, 8, 16, __?\",\n",
        ")\n",
        "display(Markdown(response.text))"
      ]
    },
    {
      "cell_type": "markdown",
      "metadata": {
        "id": "0c9a466d65d0"
      },
      "source": [
        "### Generate content stream with thoughts\n",
        "\n",
        "You can also use the `generate_content_stream` method to stream the response and thoughts as they are being generated, and the model will return chunks of the response as soon as they are generated."
      ]
    },
    {
      "cell_type": "code",
      "execution_count": 25,
      "metadata": {
        "id": "425f08594870",
        "outputId": "454c033d-8e9f-4dc3-9fda-f37916032870",
        "colab": {
          "base_uri": "https://localhost:8080/"
        }
      },
      "outputs": [
        {
          "output_type": "stream",
          "name": "stdout",
          "text": [
            "Let's break down how transparent glass doors might affect the Monty Hall Problem, and why, surprisingly, it often *doesn't* fundamentally change the optimal strategy.\n",
            "\n",
            "**Understanding the Core Monty Hall Problem**\n",
            "\n",
            "In the classic Monty Hall Problem:\n",
            "\n",
            "1. **You choose a door.**  Let's say Door #1.\n",
            "2. **Monty Hall, who knows where the car is, opens a *different* door, revealing a goat.** Let's say he opens Door #3.\n",
            "3. **Monty offers you the chance to switch to the remaining closed door, Door #2.**\n",
            "4. **The question: Should you switch? Yes.** Switching doubles your chances of winning the car.\n",
            "\n",
            "**Why Switching Works (Classical Monty Hall)**\n",
            "\n",
            "* **Initial Choice:** When you initially choose a door, you have a 1/3 chance of picking the door with the car, and a 2/3 chance of picking a door with a goat.\n",
            "* **Monty's Action is Informative:** Monty *knows* where the car is. He *always* opens a door you *didn't* pick, and he *always* opens a door with a goat.  This action is not random.  It's specifically designed to give you information.\n",
            "* **Shifting Probabilities:**  When Monty reveals a goat behind Door #3, he's not changing the initial probabilities. What he's doing is concentrating the initial 2/3 probability (that the car is behind one of the doors you *didn't* pick) onto the *single remaining unopened door* that you didn't pick.\n",
            "\n",
            "**Transparent Glass Doors - Scenarios and Analysis**\n",
            "\n",
            "Now let's consider the transparent glass doors.  The key is *what information you gain from seeing through the glass, and when you gain it*.\n",
            "\n",
            "**Scenario 1: You See Everything *Before* You Choose**\n",
            "\n",
            "* **If you can see through the glass *before* you make your initial door choice and you know which door has the car and which have goats, the problem becomes trivial.**  You simply choose the door with the car.  There's no Monty Hall problem left.  It's just a matter of seeing and picking correctly.\n",
            "\n",
            "**Scenario 2: You See Through the Glass, But Don't Know Initial Door Assignments**\n",
            "\n",
            "This is a more interesting scenario, and where the Monty Hall logic can still apply. Imagine this setup:\n",
            "\n",
            "* **You can see through the glass of all three doors at all times.** You can see the contents (car, goat, goat).\n",
            "* **However, you *don't know* which door is Door #1, Door #2, and Door #3 until *after* you make your initial selection.**  The doors are indistinguishable from the front until you make your choice.\n",
            "\n",
            "In this scenario:\n",
            "\n",
            "1. **You make a choice, seemingly at random from the front, but you can see the contents behind each door.** Let's say you pick the door that you can see has a goat behind it (from the front, you don't know it's Door #1, #2 or #3 yet).\n",
            "2. **Monty Hall now identifies the doors as Door #1, #2, and #3 (maybe labels appear now).**  Let's say you chose what is now revealed to be Door #1.\n",
            "3. **Monty *must* open a door *you didn't pick* and reveal a goat.**  Because you can see through the glass, you might say, \"Monty, you've already revealed all the contents by having glass doors!\"\n",
            "\n",
            "**The Crucial Point:**  Even with glass doors, **Monty Hall's action is still informative if you didn't have definitive door assignments *before* your initial choice.**\n",
            "\n",
            "* **If you initially picked a goat (and you had a 2/3 chance of doing so):**  You can see a goat behind Door #1 (your choice). You also see a goat and a car behind the other two. Monty *must* open the door with the other goat (he can't open the door with the car, and he can't open your door).  When he opens the goat door, the car is revealed behind the *other* unopened door. Switching is beneficial.\n",
            "\n",
            "* **If you initially picked the car (and you had a 1/3 chance of doing so):** You can see the car behind Door #1 (your choice).  You see goats behind the other two. Monty can open either of the goat doors.  No matter which goat door he opens, switching will lead to a goat.\n",
            "\n",
            "**Why Transparency Might *Seem* to Change Things (But Often Doesn't for the Strategy)**\n",
            "\n",
            "* **Illusion of Full Information:** Transparent doors might create the illusion that there's no more \"information\" to be gained because you can see the contents. However, Monty's *deliberate choice* of which door to open (he *must* open a goat door, and it must be one you didn't pick) is still the source of the probability shift.\n",
            "* **Focus on the Host's Action:** The Monty Hall Problem isn't just about what's behind the doors. It's about the *sequence of actions* and the *information provided by the host's deliberate choice*.\n",
            "\n",
            "**When Transparent Doors *Definitely* Change the Problem**\n",
            "\n",
            "* **If you know the location of the car and goats *before* you make your initial choice.**  As in Scenario 1 above.\n",
            "* **If Monty's behavior changes.** For example, if with transparent doors, Monty *randomly* opens a door, even if it could reveal the car. This is no longer the classic Monty Hall problem. In the classic problem, Monty always *helps* you (indirectly) by opening a goat door intentionally.\n",
            "\n",
            "**Conclusion**\n",
            "\n",
            "Transparent glass doors *can* change the Monty Hall problem if they give you complete information *before* you make your initial choice. In that case, it's no longer a probability puzzle.\n",
            "\n",
            "However, **if the transparency doesn't fundamentally remove the uncertainty at the point of your initial choice, or if Monty still follows his rules of deliberately opening a goat door that you didn't pick, then the optimal strategy of switching remains valid.**  You should still switch, as Monty's action (even with transparent doors) still concentrates the probability onto the remaining unopened door.\n",
            "\n",
            "The key to the Monty Hall Problem is not just about seeing goats; it's about understanding how Monty Hall's *informed* and *constrained* action changes the probabilities after your initial choice.  Transparency might make it *feel* different, but the core logic often remains the same as long as you don't have complete information upfront and Monty follows his rules."
          ]
        }
      ],
      "source": [
        "responses = client.models.generate_content_stream(\n",
        "    model=MODEL_ID,\n",
        "    contents=\"Does the Monty Hall Problem change if all the doors are made of transparent glass?\",\n",
        ")\n",
        "\n",
        "for response in responses:\n",
        "    print(response.text, end=\"\")"
      ]
    },
    {
      "cell_type": "markdown",
      "metadata": {
        "id": "IrRBg9UGC9nn"
      },
      "source": [
        "## Thinking Model examples\n",
        "\n",
        "The following examples are some complex tasks that require multiple rounds of strategizing and iteratively solving.\n",
        "\n",
        "### **Example 1**: Code simplification\n",
        "\n",
        "First, try with a simple code comprehension and simplification example."
      ]
    },
    {
      "cell_type": "code",
      "execution_count": 26,
      "metadata": {
        "id": "dLhhffx2C9nn",
        "outputId": "0b59433b-0d79-4ae5-bb62-10907f496112",
        "colab": {
          "base_uri": "https://localhost:8080/",
          "height": 970
        }
      },
      "outputs": [
        {
          "output_type": "display_data",
          "data": {
            "text/plain": [
              "<IPython.core.display.Markdown object>"
            ],
            "text/markdown": "This expression can be simplified by removing the redundant rounding step because `toFixed(1)` already handles rounding to one decimal place.\n\nHere's a breakdown of why the original expression is more complex than it needs to be and how to simplify it:\n\n**Understanding the Original Expression:**\n\n1. **`radius / pixelsPerMile`**: This part calculates the radius in some unit (likely miles or kilometers) based on the `radius` value and the `pixelsPerMile` (or pixels per kilometer) scaling factor.  Let's assume this is the desired core calculation.\n\n2. **`... * 10`**: This multiplies the result by 10.\n\n3. **`Math.round(...)`**: This rounds the result of the multiplication to the nearest whole number.\n\n4. **`/ 10`**: This divides the rounded number by 10, effectively shifting the decimal point back one place. The combination of steps 2-4 is designed to round the number to the nearest tenth.\n\n5. **`.toFixed(1)`**: This formats the number to have exactly one digit after the decimal point and converts it to a **string**.  Crucially, `toFixed()` **also performs rounding** to the specified number of decimal places.\n\n**The Redundancy:**\n\nThe `Math.round(radius/pixelsPerMile * 10) / 10` part is already rounding the result to one decimal place numerically. However, `toFixed(1)` *also* rounds to one decimal place when it formats the number as a string. This makes the `Math.round` part unnecessary.\n\n**Simplified Expression:**\n\nYou can simplify the expression to:\n\n```javascript\n(radius / pixelsPerMile).toFixed(1);\n```\n\n**Explanation of the Simplification:**\n\n* **`(radius / pixelsPerMile)`**:  We keep the core calculation as it's necessary to get the desired value in the correct unit.\n* **`.toFixed(1)`**: We directly apply `toFixed(1)` to the result of the division. This will:\n    * Round the result to one decimal place.\n    * Format the result as a string with one decimal place.\n\n**Why the Simplified Version is Better:**\n\n* **Readability:** The simplified version is much easier to read and understand at a glance. It clearly expresses the intent: divide `radius` by `pixelsPerMile` and then format the result as a string with one decimal place.\n* **Efficiency:** While the performance difference is likely negligible in most cases, removing the `Math.round`, multiplication, and division operations will be slightly more efficient as it reduces the number of calculations.\n* **Less Code:**  Shorter code is generally easier to maintain and less prone to errors.\n\n**Example:**\n\nLet's say `radius = 12345` and `pixelsPerMile = 1000`:\n\n**Original Expression:**\n\n```javascript\n(Math.round(12345/1000 * 10) / 10).toFixed(1);\n// (Math.round(12.345 * 10) / 10).toFixed(1);\n// (Math.round(123.45) / 10).toFixed(1);\n// (123 / 10).toFixed(1);\n// 12.3.toFixed(1);\n// \"12.3\"\n```\n\n**Simplified Expression:**\n\n```javascript\n(12345 / 1000).toFixed(1);\n// 12.345.toFixed(1);\n// \"12.3\"\n```\n\nBoth expressions produce the same output `\"12.3\"`, but the simplified version achieves it more directly and clearly.\n\n**In summary, you can safely and effectively simplify the expression to `(radius / pixelsPerMile).toFixed(1);` as it achieves the same result with less code and better readability.**"
          },
          "metadata": {}
        }
      ],
      "source": [
        "prompt = \"\"\"\n",
        "How can I simplify this?\n",
        "`(Math.round(radius/pixelsPerMile * 10) / 10).toFixed(1);`\n",
        "\"\"\"\n",
        "\n",
        "response = client.models.generate_content(\n",
        "    model=MODEL_ID,\n",
        "    contents=prompt,\n",
        ")\n",
        "\n",
        "display(Markdown(response.text))"
      ]
    },
    {
      "cell_type": "markdown",
      "metadata": {
        "id": "d6cOmdVPC9nn"
      },
      "source": [
        "As a comparison here's what you'd get with the [Gemini 2.0 Flash](https://cloud.google.com/vertex-ai/generative-ai/docs/gemini-v2) base model.\n",
        "\n",
        "Unlike thinking mode, the normal model does not articulate its thoughts and tries to answer right away which can lead to more simple answers to complex problems."
      ]
    },
    {
      "cell_type": "code",
      "execution_count": null,
      "metadata": {
        "id": "027b7d9a6134"
      },
      "outputs": [],
      "source": [
        "response = client.models.generate_content(\n",
        "    model=\"gemini-2.0-flash-001\",\n",
        "    contents=prompt,\n",
        ")\n",
        "\n",
        "display(Markdown(response.text))"
      ]
    },
    {
      "cell_type": "markdown",
      "metadata": {
        "id": "4080cc17f5d9"
      },
      "source": [
        "### **Example 2**: Geometry problem (with image)\n",
        "\n",
        "This geometry problem requires complex reasoning and is also using Gemini multimodal capabilities to read the image."
      ]
    },
    {
      "cell_type": "code",
      "execution_count": null,
      "metadata": {
        "id": "8bd02dff35d0"
      },
      "outputs": [],
      "source": [
        "image_file_path = \"generativeai-downloads/images/geometry.png\"\n",
        "image_file_uri = f\"gs://{image_file_path}\"\n",
        "image_file_url = f\"https://storage.googleapis.com/{image_file_path}\"\n",
        "\n",
        "display(Image(url=image_file_url, width=400))"
      ]
    },
    {
      "cell_type": "code",
      "execution_count": null,
      "metadata": {
        "id": "80f2vzWxC9no"
      },
      "outputs": [],
      "source": [
        "response = client.models.generate_content(\n",
        "    model=MODEL_ID,\n",
        "    contents=[\n",
        "        Part.from_uri(file_uri=image_file_uri, mime_type=\"image/png\"),\n",
        "        \"What's the area of the overlapping region?\",\n",
        "    ],\n",
        ")\n",
        "\n",
        "display(Markdown(response.text))"
      ]
    },
    {
      "cell_type": "markdown",
      "metadata": {
        "id": "9_WlcJZjC9np"
      },
      "source": [
        "### **Example 3**: Mathematical brain teaser\n"
      ]
    },
    {
      "cell_type": "code",
      "execution_count": 15,
      "metadata": {
        "id": "e5411dfb9e8b",
        "outputId": "ab057ba7-a80c-4659-a842-5c4e8a7be08f",
        "colab": {
          "base_uri": "https://localhost:8080/",
          "height": 225
        }
      },
      "outputs": [
        {
          "output_type": "display_data",
          "data": {
            "text/plain": [
              "<IPython.core.display.Markdown object>"
            ],
            "text/markdown": "Here's the solution to get 746 using the numbers 8, 7, 50, and 4 with addition, subtraction, and multiplication, using each number only once:\n\n**(8 + 7) * 50 - 4 = 746**\n\nHere's a breakdown of the steps:\n\n1. **Add 8 and 7:**  8 + 7 = 15\n2. **Multiply the result by 50:** 15 * 50 = 750\n3. **Subtract 4 from the result:** 750 - 4 = 746\n\nThis solution uses each number (8, 7, 50, and 4) exactly once and only employs addition, multiplication, and subtraction.\n\nFinal Answer: The final answer is $\\boxed{(8+7)*50-4}$"
          },
          "metadata": {}
        }
      ],
      "source": [
        "prompt = \"\"\"Add mathematical operations (additions, subtractions, multiplications)\n",
        "to get 746 using these numbers only once: 8, 7, 50, and 4\n",
        "\"\"\"\n",
        "\n",
        "response = client.models.generate_content(\n",
        "    model=MODEL_ID,\n",
        "    contents=prompt,\n",
        ")\n",
        "\n",
        "display(Markdown(response.text))"
      ]
    },
    {
      "cell_type": "markdown",
      "metadata": {
        "id": "655ba02d9bda"
      },
      "source": [
        "### **Example 4**: Generating question for a specific level of knowledge\n",
        "\n",
        "This time, the questions require a few types of knowledge, including what is relevant to the [Physics C: Mechanics exam](https://apcentral.collegeboard.org/courses/ap-physics-c-mechanics/exam). The questions generated are not the interesting part, but the reasoning to come up with them shows they are not just randomly generated."
      ]
    },
    {
      "cell_type": "code",
      "execution_count": null,
      "metadata": {
        "id": "MU3FAUqcC9np"
      },
      "outputs": [],
      "source": [
        "response = client.models.generate_content(\n",
        "    model=MODEL_ID,\n",
        "    contents=\"Give me a practice question I can use for the AP Physics C: Mechanics exam?\",\n",
        ")\n",
        "\n",
        "display(Markdown(response.text))"
      ]
    },
    {
      "cell_type": "markdown",
      "metadata": {
        "id": "FnDwUxI-fRWo"
      },
      "source": [
        "### **Example 5**: Statistics\n",
        "\n",
        "Here's a new mathematical problem. Once again, what's interesting is not the answer (as you might know it already) but how the model is coming up with it."
      ]
    },
    {
      "cell_type": "code",
      "execution_count": null,
      "metadata": {
        "id": "hQozYPZzgXRE"
      },
      "outputs": [],
      "source": [
        "response = client.models.generate_content(\n",
        "    model=MODEL_ID,\n",
        "    contents=\"You repeatedly flipped a coin until you either flip three heads, or heads tails heads. Which is more likely to happen first?\",\n",
        ")\n",
        "\n",
        "display(Markdown(response.text))"
      ]
    },
    {
      "cell_type": "markdown",
      "metadata": {
        "id": "m9RG4DRCm1vY"
      },
      "source": [
        "### **Example 6**:  Brain teaser with a twist\n",
        "\n",
        "Here's another brain teaser based on an image, this time it looks like a mathematical problem, but it cannot actually be solved mathematically. If you check the thoughts of the model you'll see that it will realize it and come up with an out-of-the-box solution."
      ]
    },
    {
      "cell_type": "code",
      "execution_count": null,
      "metadata": {
        "id": "b26b9ebd2d5d"
      },
      "outputs": [],
      "source": [
        "image_file_path = \"generativeai-downloads/images/pool.png\"\n",
        "image_file_uri = f\"gs://{image_file_path}\"\n",
        "image_file_url = f\"https://storage.googleapis.com/{image_file_path}\"\n",
        "\n",
        "display(Image(url=image_file_url, width=400))"
      ]
    },
    {
      "cell_type": "code",
      "execution_count": null,
      "metadata": {
        "id": "A0_4uP5Wm6yx"
      },
      "outputs": [],
      "source": [
        "response = client.models.generate_content(\n",
        "    model=MODEL_ID,\n",
        "    contents=[\n",
        "        Part.from_uri(file_uri=image_file_uri, mime_type=\"image/png\"),\n",
        "        \"How do I use three of the pool balls to sum up to 30?\",\n",
        "    ],\n",
        ")\n",
        "\n",
        "display(Markdown(response.text))"
      ]
    },
    {
      "cell_type": "markdown",
      "metadata": {
        "id": "lND4jB6MrsSk"
      },
      "source": [
        "## Next Steps\n",
        "\n",
        "- Explore the Vertex AI [Cookbook](https://cloud.google.com/vertex-ai/generative-ai/docs/cookbook) for a curated, searchable gallery of notebooks for Generative AI.\n",
        "- Explore other notebooks and samples in the [Google Cloud Generative AI repository](https://github.com/GoogleCloudPlatform/generative-ai)."
      ]
    }
  ],
  "metadata": {
    "colab": {
      "name": "intro_gemini_2_0_flash_thinking_mode.ipynb",
      "toc_visible": true,
      "provenance": []
    },
    "kernelspec": {
      "display_name": "Python 3",
      "name": "python3"
    }
  },
  "nbformat": 4,
  "nbformat_minor": 0
}